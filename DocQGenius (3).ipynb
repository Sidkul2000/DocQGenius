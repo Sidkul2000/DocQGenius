{
  "cells": [
    {
      "cell_type": "markdown",
      "metadata": {
        "id": "wrgOhk8U4Rpl"
      },
      "source": [
        "# DocQGenius: Document Insights Assistant\n",
        "\n",
        "#### This system uses Langchain, Astra DB and OpenAI (ChatGPT) to analyze the given PDF dosument and Answer questions related to that specific document only. Extremely useful while researching particular topics from a reference book.\n",
        "\n"
      ]
    },
    {
      "cell_type": "markdown",
      "source": [
        "DataStax Astra DB is a cloud-native, scalable Database-as-a-Service built on Apache Cassandra. Apache Cassandra is the open-source NoSQL database behind the largest applications in the world, including Netflix and Instagram."
      ],
      "metadata": {
        "id": "LJaoS9quGEs0"
      }
    },
    {
      "cell_type": "markdown",
      "metadata": {
        "id": "m_FeN-Ep4Rpp"
      },
      "source": [
        "### Installing the required dependencies:"
      ]
    },
    {
      "cell_type": "code",
      "execution_count": null,
      "metadata": {
        "id": "Uk0qUhJUQrkO",
        "colab": {
          "base_uri": "https://localhost:8080/"
        },
        "outputId": "f5532985-0728-4028-ee93-f4d5d7e74181"
      },
      "outputs": [
        {
          "output_type": "stream",
          "name": "stdout",
          "text": [
            "\u001b[2K     \u001b[90m━━━━━━━━━━━━━━━━━━━━━━━━━━━━━━━━━━━━━━━━\u001b[0m \u001b[32m41.3/41.3 kB\u001b[0m \u001b[31m860.0 kB/s\u001b[0m eta \u001b[36m0:00:00\u001b[0m\n",
            "\u001b[2K     \u001b[90m━━━━━━━━━━━━━━━━━━━━━━━━━━━━━━━━━━━━━━━━\u001b[0m \u001b[32m510.5/510.5 kB\u001b[0m \u001b[31m4.6 MB/s\u001b[0m eta \u001b[36m0:00:00\u001b[0m\n",
            "\u001b[2K     \u001b[90m━━━━━━━━━━━━━━━━━━━━━━━━━━━━━━━━━━━━━━━━\u001b[0m \u001b[32m812.8/812.8 kB\u001b[0m \u001b[31m17.4 MB/s\u001b[0m eta \u001b[36m0:00:00\u001b[0m\n",
            "\u001b[2K     \u001b[90m━━━━━━━━━━━━━━━━━━━━━━━━━━━━━━━━━━━━━━━━\u001b[0m \u001b[32m266.9/266.9 kB\u001b[0m \u001b[31m25.6 MB/s\u001b[0m eta \u001b[36m0:00:00\u001b[0m\n",
            "\u001b[2K     \u001b[90m━━━━━━━━━━━━━━━━━━━━━━━━━━━━━━━━━━━━━━━━\u001b[0m \u001b[32m1.8/1.8 MB\u001b[0m \u001b[31m27.1 MB/s\u001b[0m eta \u001b[36m0:00:00\u001b[0m\n",
            "\u001b[2K     \u001b[90m━━━━━━━━━━━━━━━━━━━━━━━━━━━━━━━━━━━━━━━━\u001b[0m \u001b[32m18.9/18.9 MB\u001b[0m \u001b[31m22.1 MB/s\u001b[0m eta \u001b[36m0:00:00\u001b[0m\n",
            "\u001b[2K     \u001b[90m━━━━━━━━━━━━━━━━━━━━━━━━━━━━━━━━━━━━━━━━\u001b[0m \u001b[32m116.3/116.3 kB\u001b[0m \u001b[31m12.8 MB/s\u001b[0m eta \u001b[36m0:00:00\u001b[0m\n",
            "\u001b[2K     \u001b[90m━━━━━━━━━━━━━━━━━━━━━━━━━━━━━━━━━━━━━━━━\u001b[0m \u001b[32m194.1/194.1 kB\u001b[0m \u001b[31m19.9 MB/s\u001b[0m eta \u001b[36m0:00:00\u001b[0m\n",
            "\u001b[2K     \u001b[90m━━━━━━━━━━━━━━━━━━━━━━━━━━━━━━━━━━━━━━━━\u001b[0m \u001b[32m134.8/134.8 kB\u001b[0m \u001b[31m17.1 MB/s\u001b[0m eta \u001b[36m0:00:00\u001b[0m\n",
            "\u001b[2K     \u001b[90m━━━━━━━━━━━━━━━━━━━━━━━━━━━━━━━━━━━━━━━━\u001b[0m \u001b[32m1.9/1.9 MB\u001b[0m \u001b[31m21.0 MB/s\u001b[0m eta \u001b[36m0:00:00\u001b[0m\n",
            "\u001b[2K     \u001b[90m━━━━━━━━━━━━━━━━━━━━━━━━━━━━━━━━━━━━━━━━\u001b[0m \u001b[32m279.2/279.2 kB\u001b[0m \u001b[31m19.9 MB/s\u001b[0m eta \u001b[36m0:00:00\u001b[0m\n",
            "\u001b[2K     \u001b[90m━━━━━━━━━━━━━━━━━━━━━━━━━━━━━━━━━━━━━━━━\u001b[0m \u001b[32m86.9/86.9 kB\u001b[0m \u001b[31m11.2 MB/s\u001b[0m eta \u001b[36m0:00:00\u001b[0m\n",
            "\u001b[2K     \u001b[90m━━━━━━━━━━━━━━━━━━━━━━━━━━━━━━━━━━━━━━━━\u001b[0m \u001b[32m75.6/75.6 kB\u001b[0m \u001b[31m8.9 MB/s\u001b[0m eta \u001b[36m0:00:00\u001b[0m\n",
            "\u001b[2K     \u001b[90m━━━━━━━━━━━━━━━━━━━━━━━━━━━━━━━━━━━━━━━━\u001b[0m \u001b[32m49.4/49.4 kB\u001b[0m \u001b[31m5.9 MB/s\u001b[0m eta \u001b[36m0:00:00\u001b[0m\n",
            "\u001b[2K     \u001b[90m━━━━━━━━━━━━━━━━━━━━━━━━━━━━━━━━━━━━━━━━\u001b[0m \u001b[32m77.9/77.9 kB\u001b[0m \u001b[31m9.6 MB/s\u001b[0m eta \u001b[36m0:00:00\u001b[0m\n",
            "\u001b[2K     \u001b[90m━━━━━━━━━━━━━━━━━━━━━━━━━━━━━━━━━━━━━━━━\u001b[0m \u001b[32m58.3/58.3 kB\u001b[0m \u001b[31m6.8 MB/s\u001b[0m eta \u001b[36m0:00:00\u001b[0m\n",
            "\u001b[2K     \u001b[90m━━━━━━━━━━━━━━━━━━━━━━━━━━━━━━━━━━━━━━━━\u001b[0m \u001b[32m53.0/53.0 kB\u001b[0m \u001b[31m6.2 MB/s\u001b[0m eta \u001b[36m0:00:00\u001b[0m\n",
            "\u001b[2K     \u001b[90m━━━━━━━━━━━━━━━━━━━━━━━━━━━━━━━━━━━━━━━━\u001b[0m \u001b[32m144.8/144.8 kB\u001b[0m \u001b[31m16.9 MB/s\u001b[0m eta \u001b[36m0:00:00\u001b[0m\n",
            "\u001b[?25h"
          ]
        }
      ],
      "source": [
        "!pip install -q cassio datasets langchain openai tiktoken"
      ]
    },
    {
      "cell_type": "markdown",
      "source": [
        "\n",
        "Langchain: Langchain is a software framework designed for natural language processing tasks, offering a suite of tools and libraries to streamline the development of language-based applications and solutions. We will be connecting the OpenAI API using Langchain.\n",
        "\n",
        "OpenAI API: The OpenAI API provides access to cutting-edge artificial intelligence models developed by OpenAI, enabling developers to integrate powerful language understanding, generation, and other AI capabilities into their applications via a simple API interface.\n",
        "\n",
        "CassIO: We will initialize the DB connection with CassIO, the engine powering the Astra DB integration in LangChain."
      ],
      "metadata": {
        "id": "szNuoP-RG_WZ"
      }
    },
    {
      "cell_type": "markdown",
      "metadata": {
        "id": "XQQN-L2J4Rpq"
      },
      "source": [
        "### Importing the required packages:"
      ]
    },
    {
      "cell_type": "code",
      "execution_count": null,
      "metadata": {
        "id": "V4qBIihE4Rpq"
      },
      "outputs": [],
      "source": [
        "from langchain.vectorstores.cassandra import Cassandra\n",
        "from langchain.indexes.vectorstore import VectorStoreIndexWrapper\n",
        "from langchain.llms import OpenAI\n",
        "from langchain.embeddings import OpenAIEmbeddings\n",
        "\n",
        "from datasets import load_dataset\n",
        "\n",
        "import cassio"
      ]
    },
    {
      "cell_type": "code",
      "source": [
        "!pip install PyPDF2"
      ],
      "metadata": {
        "colab": {
          "base_uri": "https://localhost:8080/"
        },
        "id": "WIs76OPQ6JyD",
        "outputId": "3d15ff83-2c39-4df9-9adf-48b07d6008d6"
      },
      "execution_count": null,
      "outputs": [
        {
          "output_type": "stream",
          "name": "stdout",
          "text": [
            "Collecting PyPDF2\n",
            "  Downloading pypdf2-3.0.1-py3-none-any.whl (232 kB)\n",
            "\u001b[2K     \u001b[90m━━━━━━━━━━━━━━━━━━━━━━━━━━━━━━━━━━━━━━━━\u001b[0m \u001b[32m232.6/232.6 kB\u001b[0m \u001b[31m2.5 MB/s\u001b[0m eta \u001b[36m0:00:00\u001b[0m\n",
            "\u001b[?25hInstalling collected packages: PyPDF2\n",
            "Successfully installed PyPDF2-3.0.1\n"
          ]
        }
      ]
    },
    {
      "cell_type": "markdown",
      "source": [
        "PyPDF2 is a Python library for working with PDF files. It allows users to extract text, merge multiple PDFs, split PDFs into individual pages, rotate pages by providing a comprehensive toolkit for manipulating PDF documents programmatically."
      ],
      "metadata": {
        "id": "nBejwDGKH3EG"
      }
    },
    {
      "cell_type": "code",
      "source": [
        "from PyPDF2 import PdfReader"
      ],
      "metadata": {
        "id": "1itBNL1v6N9-"
      },
      "execution_count": null,
      "outputs": []
    },
    {
      "cell_type": "markdown",
      "metadata": {
        "id": "Vu2UauiC4Rpr"
      },
      "source": [
        "### Setting up the token, DB ID and API key"
      ]
    },
    {
      "cell_type": "code",
      "execution_count": null,
      "metadata": {
        "id": "eqpM6I854Rpr"
      },
      "outputs": [],
      "source": [
        "ASTRA_DB_APPLICATION_TOKEN = \"secret\"\n",
        "ASTRA_DB_ID = \"secret\"\n",
        "\n",
        "OPENAI_API_KEY = \"secret\""
      ]
    },
    {
      "cell_type": "markdown",
      "source": [
        "### Getting the path of the PDF"
      ],
      "metadata": {
        "id": "vqPrIqsVIKa1"
      }
    },
    {
      "cell_type": "code",
      "source": [
        "pdfreader = PdfReader('proposal.pdf')"
      ],
      "metadata": {
        "id": "waVKJW-n6jqJ"
      },
      "execution_count": null,
      "outputs": []
    },
    {
      "cell_type": "code",
      "source": [
        "from typing_extensions import Concatenate\n",
        "\n",
        "raw_text = ''\n",
        "for i, page in enumerate(pdfreader.pages):\n",
        "    content = page.extract_text()\n",
        "    if content:\n",
        "        raw_text += content"
      ],
      "metadata": {
        "id": "42BKuFRO6meP"
      },
      "execution_count": null,
      "outputs": []
    },
    {
      "cell_type": "code",
      "source": [
        "raw_text"
      ],
      "metadata": {
        "colab": {
          "base_uri": "https://localhost:8080/",
          "height": 178
        },
        "id": "vR41Iq-4ZHnG",
        "outputId": "c8f07aff-b786-428d-aa0e-ea8638a46a67"
      },
      "execution_count": null,
      "outputs": [
        {
          "output_type": "execute_result",
          "data": {
            "text/plain": [
              "\"Java\\nProject\\nProposal\\nFinFlow:\\nThe\\nexpense\\ntracker\\nGroup\\nMembers:\\nWilliam\\nYe\\n(\\nwy2399@nyu.edu\\n),\\nSiddhant\\nKulkarni\\n(\\nsk10841@nyu.edu\\n),\\nSwapnamoy\\nBhowmick\\n(\\nsb9180@nyu.edu\\n)\\nApplication\\nDescription:\\nThe\\nJa v a\\nExpense\\nT r ack er\\nis\\na\\nuser-friendly\\ndeskt op\\napplication\\ndesigned\\nt o\\nhelp\\nindividuals\\nmanage\\ntheir\\npersonal\\nﬁnances\\nwith\\nease.\\nBuilt\\nusing\\nJa v a,\\nthis\\napplication\\nwill\\npr o vide\\na\\nstr aightfor war d\\ninter face\\nfor\\ntr acking\\ndaily\\nexpenses,\\ncategorizing\\nthem\\nand\\nr e viewing\\nﬁnancial\\nhabits\\no v er\\ntime.\\nK e y\\nF eatur es:\\n●\\nUser\\nA uthentication:\\nSecur e\\nlogin\\nand\\nr egistr ation\\nfunctionality .\\n●\\nT r ansaction\\nLogging:\\nUsers\\ncan\\nquickly\\nlog\\ne v er y\\nexpense\\nor\\nincome,\\nspecifying\\nthe\\namount,\\ndate,\\ncategor y\\n(e.g.,\\ngr oceries,\\nutilities,\\nsalar y)\\nand\\na\\nsmall\\nnote\\nfor\\nfutur e\\nr ef er ence.\\nUsers\\ncan\\nalso\\nedit\\nan\\nexisting\\nr ecor d\\nor\\ndelete\\nit.\\n●\\nCategor y\\nManagement:\\nUsers\\ncan\\ncr eate,\\nedit\\nand\\ndelete\\nexpense\\ncategories\\nt o\\ntailor\\nthe\\napplication\\nt o\\ntheir\\npersonal\\nspending\\nhabits.\\n●\\nBudget\\nSetting:\\nThe\\napplication\\nallows\\nusers\\nt o\\nset\\nmonthly\\nbudgets\\nfor\\ndiff er ent\\ncategories\\nand\\nnotiﬁes\\nthem\\nwhen\\nthe y\\nar e\\nclose\\nt o\\nex ceeding\\ntheir\\nlimits.\\n●\\nRepor ts\\nand\\nInsights:\\nGener ates\\ndetailed\\nr epor ts\\nand\\nvisual\\ngr aphs\\n(if\\nenough\\ntime\\nt o\\nimplement)\\nt o\\npr o vide\\ninsights\\nint o\\nspending\\npatterns,\\nhelping\\nusers\\nmak e\\ninformed\\nﬁnancial\\ndecisions.\\n●\\nGr oup\\nExpense\\nManagement:\\nThe\\napplication\\nwill\\nhelp\\nt o\\nsplit\\nthe\\namount\\namong\\nmultiple\\npeople.\\nOption\\nwill\\nbe\\npr o vided\\nt o\\nselect\\nthe\\npeople\\nand\\nadd\\nexpenses\\nt o\\nselected\\npeople\\nand\\nthe\\namount\\nwill\\nbe\\nsplit\\namong\\nthe\\nselected\\npeople.Adv anced\\nT opics:\\n●\\nGUI\\nwith\\nSwing:\\nJa v a\\nSwing\\nwill\\nbe\\nused\\nt o\\ndesign\\nand\\nde v elop\\nthe\\ngr aphical\\nuser\\ninter face,\\nutilizing\\nv arious\\ncomponents.\\nThe\\nGUI\\nwill\\nbe\\nr esponsiv e\\nand\\nuser-friendly ,\\npr o viding\\nan\\nintuitiv e\\nexperience\\nfor\\nusers.\\n●\\nSpring\\nand\\nSpring\\nBoot:\\nSpring\\nBoot\\nwill\\nbe\\nemplo y ed\\nt o\\nhandle\\nback end\\nlogic,\\ndata\\npr ocessing\\nand\\nREST\\nAPI\\nendpoints.\\nSpring\\nSecurity\\ncan\\nbe\\nused\\nfor\\nimplementing\\nsecur e\\nuser\\nauthentication\\nand\\nauthorization.\\nAdditionally ,\\nSpring\\nData\\nJP A\\nwill\\nfacilitate\\ndatabase\\nconnectivity\\nand\\nr eposit or y\\nmanagement.\\n●\\nDatabase:\\nThe\\napplication\\nwill\\nutiliz e\\na\\nr elational\\ndatabase\\nmanagement\\nsystem\\n(RDBMS)\\nfor\\ndata\\nst or age\\nand\\nr etrie v al.\\nSpring\\nData\\nJP A\\nwill\\nbe\\nused\\nfor\\nseamless\\nintegr ation\\nwith\\nthe\\ndatabase,\\nensuring\\neﬃcient\\ndata\\naccess\\nand\\nmanipulation.\\n●\\nMultithr eading:\\nThe\\napplication\\nwill\\nbe\\ncapable\\nof\\npr ocessing\\nmultiple\\nuser\\nactions\\nor\\ntasks\\nconcurr ently ,\\nensuring\\nthat\\neach\\nuser ' s\\nr equest\\nis\\nhandled\\neﬃciently\\nand\\nwithout\\nblocking\\nthe\\napplication ' s\\nmain\\nthr ead.\\nJa v a\\nF eatur es\\n●\\nJa v a\\nSwing\\nfor\\nGUI:\\nUtilizing\\nJa v a\\nSwing\\nfor\\nbuilding\\nthe\\ngr aphical\\nuser\\ninter face,\\nmaking\\nuse\\nof\\ncomponents\\nlik e\\nJF r ame,\\nJP anel,\\nJButt on,\\nJLabel,\\nand\\nJT extFields\\nfor\\ncr eating\\nthe\\nla y out\\nand\\ninput\\nforms.\\n●\\nJa v a\\nSE\\nf eatur es:\\nLe v er aging\\ncor e\\nJa v a\\nf eatur es\\nsuch\\nas\\nCollections\\nfor\\nmanaging\\ngr oups\\nof\\nobjects\\n(e.g.,\\nlists\\nof\\ntr ansactions),\\nIO\\nfor\\nﬁle\\nmanagement\\nand\\nJa v a\\nBeans\\nfor\\nencapsulating\\ndata.\\n●\\nSpring\\nBoot\\nfor\\nRESTful\\nAPI:\\nF or\\na\\nmor e\\nadv anced\\nback end,\\nimplementing\\na\\nSpring\\nBoot\\napplication\\nt o\\nhandle\\nlogic,\\ndata\\npr ocessing\\nand\\nREST\\nAPI\\nendpoints\\nfor\\nthe\\napplication.\\n●\\nDatabase\\nConnectivity:\\nSpring\\nData\\nJP A\\nfor\\nr eposit or y\\nmanagement\\nif\\nusing\\nSpring\\nBoot.\\n●\\nSecurity(Optional):\\nImplementing\\nJa v a\\nsecurity\\nf eatur es\\nfor\\nauthentication\\nand\\nauthorization\\nand\\nsecur e\\ndata\\nst or age.\""
            ],
            "application/vnd.google.colaboratory.intrinsic+json": {
              "type": "string"
            }
          },
          "metadata": {},
          "execution_count": 8
        }
      ]
    },
    {
      "cell_type": "markdown",
      "metadata": {
        "id": "5S0GgIQs4Rps"
      },
      "source": [
        "### Initializing the connection to the database"
      ]
    },
    {
      "cell_type": "code",
      "execution_count": null,
      "metadata": {
        "id": "zFBR5HnZSPmK",
        "colab": {
          "base_uri": "https://localhost:8080/"
        },
        "outputId": "64887f9d-ef78-4142-dc3f-9a389ff205be"
      },
      "outputs": [
        {
          "output_type": "stream",
          "name": "stderr",
          "text": [
            "WARNING:cassandra.cluster:Downgrading core protocol version from 66 to 65 for c4c5a4ad-f352-4c82-8ac7-68a9f516a28a-us-east1.db.astra.datastax.com:29042:3c39acb1-b6e7-41d7-8480-76e8e4bf63c6. To avoid this, it is best practice to explicitly set Cluster(protocol_version) to the version supported by your cluster. http://datastax.github.io/python-driver/api/cassandra/cluster.html#cassandra.cluster.Cluster.protocol_version\n",
            "WARNING:cassandra.cluster:Downgrading core protocol version from 65 to 5 for c4c5a4ad-f352-4c82-8ac7-68a9f516a28a-us-east1.db.astra.datastax.com:29042:3c39acb1-b6e7-41d7-8480-76e8e4bf63c6. To avoid this, it is best practice to explicitly set Cluster(protocol_version) to the version supported by your cluster. http://datastax.github.io/python-driver/api/cassandra/cluster.html#cassandra.cluster.Cluster.protocol_version\n",
            "ERROR:cassandra.connection:Closing connection <LibevConnection(138189540390224) c4c5a4ad-f352-4c82-8ac7-68a9f516a28a-us-east1.db.astra.datastax.com:29042:3c39acb1-b6e7-41d7-8480-76e8e4bf63c6> due to protocol error: Error from server: code=000a [Protocol error] message=\"Beta version of the protocol used (5/v5-beta), but USE_BETA flag is unset\"\n",
            "WARNING:cassandra.cluster:Downgrading core protocol version from 5 to 4 for c4c5a4ad-f352-4c82-8ac7-68a9f516a28a-us-east1.db.astra.datastax.com:29042:3c39acb1-b6e7-41d7-8480-76e8e4bf63c6. To avoid this, it is best practice to explicitly set Cluster(protocol_version) to the version supported by your cluster. http://datastax.github.io/python-driver/api/cassandra/cluster.html#cassandra.cluster.Cluster.protocol_version\n"
          ]
        }
      ],
      "source": [
        "cassio.init(token=ASTRA_DB_APPLICATION_TOKEN, database_id=ASTRA_DB_ID)"
      ]
    },
    {
      "cell_type": "markdown",
      "metadata": {
        "id": "ex7NxZYb4Rps"
      },
      "source": [
        "### Creating the LangChain embedding and LLM objects"
      ]
    },
    {
      "cell_type": "code",
      "execution_count": null,
      "metadata": {
        "id": "TavS0AK2SLrL",
        "colab": {
          "base_uri": "https://localhost:8080/"
        },
        "outputId": "3b31a202-8624-4ee5-899d-7b5d7273dada"
      },
      "outputs": [
        {
          "output_type": "stream",
          "name": "stderr",
          "text": [
            "/usr/local/lib/python3.10/dist-packages/langchain_core/_api/deprecation.py:117: LangChainDeprecationWarning: The class `langchain_community.llms.openai.OpenAI` was deprecated in langchain-community 0.0.10 and will be removed in 0.2.0. An updated version of the class exists in the langchain-openai package and should be used instead. To use it run `pip install -U langchain-openai` and import as `from langchain_openai import OpenAI`.\n",
            "  warn_deprecated(\n",
            "/usr/local/lib/python3.10/dist-packages/langchain_core/_api/deprecation.py:117: LangChainDeprecationWarning: The class `langchain_community.embeddings.openai.OpenAIEmbeddings` was deprecated in langchain-community 0.0.9 and will be removed in 0.2.0. An updated version of the class exists in the langchain-openai package and should be used instead. To use it run `pip install -U langchain-openai` and import as `from langchain_openai import OpenAIEmbeddings`.\n",
            "  warn_deprecated(\n"
          ]
        }
      ],
      "source": [
        "llm = OpenAI(openai_api_key=OPENAI_API_KEY)\n",
        "embedding = OpenAIEmbeddings(openai_api_key=OPENAI_API_KEY)"
      ]
    },
    {
      "cell_type": "markdown",
      "metadata": {
        "id": "9HMMx5Pm4Rpt"
      },
      "source": [
        "### Creating the LangChain vector store backed by Astra DB.\n",
        "\n",
        "We will split the text using Character Text Split such that it should not increse the token size"
      ]
    },
    {
      "cell_type": "code",
      "execution_count": null,
      "metadata": {
        "id": "bg9VAk4USQvU"
      },
      "outputs": [],
      "source": [
        "astra_vector_store = Cassandra(\n",
        "    embedding=embedding,\n",
        "    table_name=\"qa_mini_demo\",\n",
        "    session=None,\n",
        "    keyspace=None,\n",
        ")"
      ]
    },
    {
      "cell_type": "code",
      "source": [
        "from langchain.text_splitter import CharacterTextSplitter\n",
        "\n",
        "text_splitter = CharacterTextSplitter(\n",
        "    separator = \"\\n\",\n",
        "    chunk_size = 800,\n",
        "    chunk_overlap  = 200,\n",
        "    length_function = len,\n",
        ")\n",
        "texts = text_splitter.split_text(raw_text)"
      ],
      "metadata": {
        "id": "9FMAhKr77AVO"
      },
      "execution_count": null,
      "outputs": []
    },
    {
      "cell_type": "code",
      "source": [
        "texts[:50]"
      ],
      "metadata": {
        "colab": {
          "base_uri": "https://localhost:8080/"
        },
        "id": "k8BDHAyT7Gjr",
        "outputId": "49bf32f1-41d7-42a2-9da7-bc3dcfdadb1c"
      },
      "execution_count": null,
      "outputs": [
        {
          "output_type": "execute_result",
          "data": {
            "text/plain": [
              "['Java\\nProject\\nProposal\\nFinFlow:\\nThe\\nexpense\\ntracker\\nGroup\\nMembers:\\nWilliam\\nYe\\n(\\nwy2399@nyu.edu\\n),\\nSiddhant\\nKulkarni\\n(\\nsk10841@nyu.edu\\n),\\nSwapnamoy\\nBhowmick\\n(\\nsb9180@nyu.edu\\n)\\nApplication\\nDescription:\\nThe\\nJa v a\\nExpense\\nT r ack er\\nis\\na\\nuser-friendly\\ndeskt op\\napplication\\ndesigned\\nt o\\nhelp\\nindividuals\\nmanage\\ntheir\\npersonal\\nﬁnances\\nwith\\nease.\\nBuilt\\nusing\\nJa v a,\\nthis\\napplication\\nwill\\npr o vide\\na\\nstr aightfor war d\\ninter face\\nfor\\ntr acking\\ndaily\\nexpenses,\\ncategorizing\\nthem\\nand\\nr e viewing\\nﬁnancial\\nhabits\\no v er\\ntime.\\nK e y\\nF eatur es:\\n●\\nUser\\nA uthentication:\\nSecur e\\nlogin\\nand\\nr egistr ation\\nfunctionality .\\n●\\nT r ansaction\\nLogging:\\nUsers\\ncan\\nquickly\\nlog\\ne v er y\\nexpense\\nor\\nincome,\\nspecifying\\nthe\\namount,\\ndate,\\ncategor y\\n(e.g.,\\ngr oceries,\\nutilities,\\nsalar y)\\nand\\na\\nsmall\\nnote\\nfor\\nfutur e',\n",
              " 'functionality .\\n●\\nT r ansaction\\nLogging:\\nUsers\\ncan\\nquickly\\nlog\\ne v er y\\nexpense\\nor\\nincome,\\nspecifying\\nthe\\namount,\\ndate,\\ncategor y\\n(e.g.,\\ngr oceries,\\nutilities,\\nsalar y)\\nand\\na\\nsmall\\nnote\\nfor\\nfutur e\\nr ef er ence.\\nUsers\\ncan\\nalso\\nedit\\nan\\nexisting\\nr ecor d\\nor\\ndelete\\nit.\\n●\\nCategor y\\nManagement:\\nUsers\\ncan\\ncr eate,\\nedit\\nand\\ndelete\\nexpense\\ncategories\\nt o\\ntailor\\nthe\\napplication\\nt o\\ntheir\\npersonal\\nspending\\nhabits.\\n●\\nBudget\\nSetting:\\nThe\\napplication\\nallows\\nusers\\nt o\\nset\\nmonthly\\nbudgets\\nfor\\ndiff er ent\\ncategories\\nand\\nnotiﬁes\\nthem\\nwhen\\nthe y\\nar e\\nclose\\nt o\\nex ceeding\\ntheir\\nlimits.\\n●\\nRepor ts\\nand\\nInsights:\\nGener ates\\ndetailed\\nr epor ts\\nand\\nvisual\\ngr aphs\\n(if\\nenough\\ntime\\nt o\\nimplement)\\nt o\\npr o vide\\ninsights\\nint o\\nspending\\npatterns,\\nhelping\\nusers\\nmak e\\ninformed\\nﬁnancial\\ndecisions.\\n●\\nGr oup\\nExpense',\n",
              " 'Gener ates\\ndetailed\\nr epor ts\\nand\\nvisual\\ngr aphs\\n(if\\nenough\\ntime\\nt o\\nimplement)\\nt o\\npr o vide\\ninsights\\nint o\\nspending\\npatterns,\\nhelping\\nusers\\nmak e\\ninformed\\nﬁnancial\\ndecisions.\\n●\\nGr oup\\nExpense\\nManagement:\\nThe\\napplication\\nwill\\nhelp\\nt o\\nsplit\\nthe\\namount\\namong\\nmultiple\\npeople.\\nOption\\nwill\\nbe\\npr o vided\\nt o\\nselect\\nthe\\npeople\\nand\\nadd\\nexpenses\\nt o\\nselected\\npeople\\nand\\nthe\\namount\\nwill\\nbe\\nsplit\\namong\\nthe\\nselected\\npeople.Adv anced\\nT opics:\\n●\\nGUI\\nwith\\nSwing:\\nJa v a\\nSwing\\nwill\\nbe\\nused\\nt o\\ndesign\\nand\\nde v elop\\nthe\\ngr aphical\\nuser\\ninter face,\\nutilizing\\nv arious\\ncomponents.\\nThe\\nGUI\\nwill\\nbe\\nr esponsiv e\\nand\\nuser-friendly ,\\npr o viding\\nan\\nintuitiv e\\nexperience\\nfor\\nusers.\\n●\\nSpring\\nand\\nSpring\\nBoot:\\nSpring\\nBoot\\nwill\\nbe\\nemplo y ed\\nt o\\nhandle\\nback end\\nlogic,\\ndata\\npr ocessing\\nand\\nREST\\nAPI\\nendpoints.\\nSpring',\n",
              " \"and\\nuser-friendly ,\\npr o viding\\nan\\nintuitiv e\\nexperience\\nfor\\nusers.\\n●\\nSpring\\nand\\nSpring\\nBoot:\\nSpring\\nBoot\\nwill\\nbe\\nemplo y ed\\nt o\\nhandle\\nback end\\nlogic,\\ndata\\npr ocessing\\nand\\nREST\\nAPI\\nendpoints.\\nSpring\\nSecurity\\ncan\\nbe\\nused\\nfor\\nimplementing\\nsecur e\\nuser\\nauthentication\\nand\\nauthorization.\\nAdditionally ,\\nSpring\\nData\\nJP A\\nwill\\nfacilitate\\ndatabase\\nconnectivity\\nand\\nr eposit or y\\nmanagement.\\n●\\nDatabase:\\nThe\\napplication\\nwill\\nutiliz e\\na\\nr elational\\ndatabase\\nmanagement\\nsystem\\n(RDBMS)\\nfor\\ndata\\nst or age\\nand\\nr etrie v al.\\nSpring\\nData\\nJP A\\nwill\\nbe\\nused\\nfor\\nseamless\\nintegr ation\\nwith\\nthe\\ndatabase,\\nensuring\\neﬃcient\\ndata\\naccess\\nand\\nmanipulation.\\n●\\nMultithr eading:\\nThe\\napplication\\nwill\\nbe\\ncapable\\nof\\npr ocessing\\nmultiple\\nuser\\nactions\\nor\\ntasks\\nconcurr ently ,\\nensuring\\nthat\\neach\\nuser ' s\\nr equest\\nis\\nhandled\",\n",
              " \"eﬃcient\\ndata\\naccess\\nand\\nmanipulation.\\n●\\nMultithr eading:\\nThe\\napplication\\nwill\\nbe\\ncapable\\nof\\npr ocessing\\nmultiple\\nuser\\nactions\\nor\\ntasks\\nconcurr ently ,\\nensuring\\nthat\\neach\\nuser ' s\\nr equest\\nis\\nhandled\\neﬃciently\\nand\\nwithout\\nblocking\\nthe\\napplication ' s\\nmain\\nthr ead.\\nJa v a\\nF eatur es\\n●\\nJa v a\\nSwing\\nfor\\nGUI:\\nUtilizing\\nJa v a\\nSwing\\nfor\\nbuilding\\nthe\\ngr aphical\\nuser\\ninter face,\\nmaking\\nuse\\nof\\ncomponents\\nlik e\\nJF r ame,\\nJP anel,\\nJButt on,\\nJLabel,\\nand\\nJT extFields\\nfor\\ncr eating\\nthe\\nla y out\\nand\\ninput\\nforms.\\n●\\nJa v a\\nSE\\nf eatur es:\\nLe v er aging\\ncor e\\nJa v a\\nf eatur es\\nsuch\\nas\\nCollections\\nfor\\nmanaging\\ngr oups\\nof\\nobjects\\n(e.g.,\\nlists\\nof\\ntr ansactions),\\nIO\\nfor\\nﬁle\\nmanagement\\nand\\nJa v a\\nBeans\\nfor\\nencapsulating\\ndata.\\n●\\nSpring\\nBoot\\nfor\\nRESTful\\nAPI:\\nF or\\na\\nmor e\\nadv anced\\nback end,\\nimplementing\\na\\nSpring\",\n",
              " 'gr oups\\nof\\nobjects\\n(e.g.,\\nlists\\nof\\ntr ansactions),\\nIO\\nfor\\nﬁle\\nmanagement\\nand\\nJa v a\\nBeans\\nfor\\nencapsulating\\ndata.\\n●\\nSpring\\nBoot\\nfor\\nRESTful\\nAPI:\\nF or\\na\\nmor e\\nadv anced\\nback end,\\nimplementing\\na\\nSpring\\nBoot\\napplication\\nt o\\nhandle\\nlogic,\\ndata\\npr ocessing\\nand\\nREST\\nAPI\\nendpoints\\nfor\\nthe\\napplication.\\n●\\nDatabase\\nConnectivity:\\nSpring\\nData\\nJP A\\nfor\\nr eposit or y\\nmanagement\\nif\\nusing\\nSpring\\nBoot.\\n●\\nSecurity(Optional):\\nImplementing\\nJa v a\\nsecurity\\nf eatur es\\nfor\\nauthentication\\nand\\nauthorization\\nand\\nsecur e\\ndata\\nst or age.']"
            ]
          },
          "metadata": {},
          "execution_count": 13
        }
      ]
    },
    {
      "cell_type": "markdown",
      "metadata": {
        "id": "V1WK54-74Rpt"
      },
      "source": [
        "### Loading the dataset into the vector store\n",
        "\n"
      ]
    },
    {
      "cell_type": "code",
      "execution_count": null,
      "metadata": {
        "colab": {
          "base_uri": "https://localhost:8080/"
        },
        "id": "GX5BECsdSUUM",
        "outputId": "1a8462f1-2e11-4ea8-bfb2-ae01c4cef1c3"
      },
      "outputs": [
        {
          "output_type": "stream",
          "name": "stdout",
          "text": [
            "Inserted 6 headlines.\n"
          ]
        }
      ],
      "source": [
        "\n",
        "astra_vector_store.add_texts(texts[:50])\n",
        "\n",
        "print(\"Inserted %i headlines.\" % len(texts[:50]))\n",
        "\n",
        "astra_vector_index = VectorStoreIndexWrapper(vectorstore=astra_vector_store)"
      ]
    },
    {
      "cell_type": "markdown",
      "metadata": {
        "id": "oLJp8yPF4Rpt"
      },
      "source": [
        "### Running the model\n",
        "\n",
        "We can either type in the question we want to find out related to the PDF document or we can type \"quit\" to exit the program."
      ]
    },
    {
      "cell_type": "code",
      "execution_count": null,
      "metadata": {
        "colab": {
          "base_uri": "https://localhost:8080/"
        },
        "id": "MbJugrh7SX3C",
        "outputId": "8b9a2741-9f0b-48ae-9c18-d2419f0ecf8a"
      },
      "outputs": [
        {
          "output_type": "stream",
          "name": "stdout",
          "text": [
            "\n",
            "Enter your question (or type 'quit' to exit): What are the names of the group members?\n",
            "\n",
            "QUESTION: \"What are the names of the group members?\"\n"
          ]
        },
        {
          "output_type": "stream",
          "name": "stderr",
          "text": [
            "WARNING:cassandra.protocol:Server warning: Top-K queries can only be run with consistency level ONE / LOCAL_ONE / NODE_LOCAL. Consistency level LOCAL_QUORUM was requested. Downgrading the consistency level to LOCAL_ONE.\n"
          ]
        },
        {
          "output_type": "stream",
          "name": "stdout",
          "text": [
            "ANSWER: \"I don't know.\"\n",
            "\n",
            "\n",
            "What's your next question (or type 'quit' to exit): What are the java features?\n",
            "\n",
            "QUESTION: \"What are the java features?\"\n"
          ]
        },
        {
          "output_type": "stream",
          "name": "stderr",
          "text": [
            "WARNING:cassandra.protocol:Server warning: Top-K queries can only be run with consistency level ONE / LOCAL_ONE / NODE_LOCAL. Consistency level LOCAL_QUORUM was requested. Downgrading the consistency level to LOCAL_ONE.\n"
          ]
        },
        {
          "output_type": "stream",
          "name": "stdout",
          "text": [
            "ANSWER: \"The Java features mentioned in the context are multithreading, Java Swing for GUI, Java SE features such as Collections and IO, and Spring Boot for RESTful API.\"\n",
            "\n",
            "\n",
            "What's your next question (or type 'quit' to exit): group members?\n",
            "\n",
            "QUESTION: \"group members?\"\n"
          ]
        },
        {
          "output_type": "stream",
          "name": "stderr",
          "text": [
            "WARNING:cassandra.protocol:Server warning: Top-K queries can only be run with consistency level ONE / LOCAL_ONE / NODE_LOCAL. Consistency level LOCAL_QUORUM was requested. Downgrading the consistency level to LOCAL_ONE.\n"
          ]
        },
        {
          "output_type": "stream",
          "name": "stdout",
          "text": [
            "ANSWER: \"The application allows for splitting expenses among multiple people, but it does not mention anything about group members specifically.\"\n",
            "\n",
            "\n",
            "What's your next question (or type 'quit' to exit): key features?\n",
            "\n",
            "QUESTION: \"key features?\"\n"
          ]
        },
        {
          "output_type": "stream",
          "name": "stderr",
          "text": [
            "WARNING:cassandra.protocol:Server warning: Top-K queries can only be run with consistency level ONE / LOCAL_ONE / NODE_LOCAL. Consistency level LOCAL_QUORUM was requested. Downgrading the consistency level to LOCAL_ONE.\n"
          ]
        },
        {
          "output_type": "stream",
          "name": "stdout",
          "text": [
            "ANSWER: \"Some key features mentioned in the context are multithreading, Java Swing for GUI, Java SE features, and Spring Boot for RESTful API.\"\n",
            "\n",
            "\n",
            "What's your next question (or type 'quit' to exit): what is the application description and what are the features of this application?\n",
            "\n",
            "QUESTION: \"what is the application description and what are the features of this application?\"\n"
          ]
        },
        {
          "output_type": "stream",
          "name": "stderr",
          "text": [
            "WARNING:cassandra.protocol:Server warning: Top-K queries can only be run with consistency level ONE / LOCAL_ONE / NODE_LOCAL. Consistency level LOCAL_QUORUM was requested. Downgrading the consistency level to LOCAL_ONE.\n"
          ]
        },
        {
          "output_type": "stream",
          "name": "stdout",
          "text": [
            "ANSWER: \"The application is described as being capable of handling data access and manipulation efficiently, utilizing multithreading to process multiple user actions concurrently. It also utilizes Java Swing for building the graphical user interface and leverages core Java features such as Collections and IO. Additionally, it implements Spring Boot for RESTful API in the back end.\"\n",
            "\n",
            "\n",
            "What's your next question (or type 'quit' to exit): is there python code in it?\n",
            "\n",
            "QUESTION: \"is there python code in it?\"\n"
          ]
        },
        {
          "output_type": "stream",
          "name": "stderr",
          "text": [
            "WARNING:cassandra.protocol:Server warning: Top-K queries can only be run with consistency level ONE / LOCAL_ONE / NODE_LOCAL. Consistency level LOCAL_QUORUM was requested. Downgrading the consistency level to LOCAL_ONE.\n"
          ]
        },
        {
          "name": "stdout",
          "output_type": "stream",
          "text": [
            "ANSWER: \"No, there is no mention of Python code in the given context.\"\n",
            "\n",
            "\n",
            "What's your next question (or type 'quit' to exit): quit\n"
          ]
        }
      ],
      "source": [
        "first_question = True\n",
        "\n",
        "import warnings\n",
        "warnings.filterwarnings(\"ignore\")\n",
        "\n",
        "while True:\n",
        "    if first_question:\n",
        "        query_text = input(\"\\nEnter your question (or type 'quit' to exit): \").strip()\n",
        "    else:\n",
        "        query_text = input(\"\\nWhat's your next question (or type 'quit' to exit): \").strip()\n",
        "\n",
        "    if query_text.lower() == \"quit\":\n",
        "        break\n",
        "\n",
        "    if query_text == \"\":\n",
        "        continue\n",
        "\n",
        "    first_question = False\n",
        "\n",
        "\n",
        "\n",
        "    print(\"\\nQUESTION: \\\"%s\\\"\" % query_text)\n",
        "    answer = astra_vector_index.query(query_text, llm=llm).strip()\n",
        "    print(\"ANSWER: \\\"%s\\\"\\n\" % answer)"
      ]
    }
  ],
  "metadata": {
    "colab": {
      "provenance": []
    },
    "kernelspec": {
      "display_name": "Python 3 (ipykernel)",
      "language": "python",
      "name": "python3"
    },
    "language_info": {
      "codemirror_mode": {
        "name": "ipython",
        "version": 3
      },
      "file_extension": ".py",
      "mimetype": "text/x-python",
      "name": "python",
      "nbconvert_exporter": "python",
      "pygments_lexer": "ipython3",
      "version": "3.10.12"
    }
  },
  "nbformat": 4,
  "nbformat_minor": 0
}